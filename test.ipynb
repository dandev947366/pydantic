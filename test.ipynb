{
 "cells": [
  {
   "cell_type": "code",
   "execution_count": 2,
   "metadata": {},
   "outputs": [],
   "source": [
    "from fastapi import FastAPI, Body\n",
    "from pydantic import BaseModel"
   ]
  },
  {
   "cell_type": "code",
   "execution_count": 4,
   "metadata": {},
   "outputs": [],
   "source": [
    "from fastapi import FastAPI, Body\n",
    "from pydantic import BaseModel\n",
    "\n",
    "app = FastAPI()\n",
    "\n",
    "class Book:\n",
    "    id: int\n",
    "    title: str\n",
    "    author: str\n",
    "    description: str\n",
    "    rating: int\n",
    "    \n",
    "    def __init__(self, id, title, author, description, rating):\n",
    "        self.id = id\n",
    "        self.title = title\n",
    "        self.author = author\n",
    "        self.description = description\n",
    "        self.rating = rating\n",
    "   \n",
    "class BookRequest(BaseModel):\n",
    "    id: int\n",
    "    title: str\n",
    "    author: str\n",
    "    description: str\n",
    "    rating: int\n",
    "    \n",
    "BOOKS = [\n",
    "    Book(1, 'Computer Science Pro', 'Tom', 'A very good book', 5),\n",
    "    Book(2, 'Fundamentals of Data Engineering:', 'Joe Reis', 'nice good book', 4),\n",
    "    Book(3, 'Measure What Matters', 'John Doerr', 'Well written book', 4.5),\n",
    "    Book(4, 'Radical Focus (Second Edition)', 'Christina Wodtke', 'informative book', 4.3),\n",
    "    Book(5, 'Continuous Discovery Habits', 'Teresa Torres', 'well structed', 4.7),\n",
    "    Book(6, 'Jobs to Be Done: Theory to Practice', 'Anthony W. Ulwick', 'A very good book', 4),\n",
    "    Book(7, 'User Story Mapping', 'Jeff Patton ', 'A very great book', 4.5),\n",
    "    Book(8, 'Design a Better Business', 'Patrick van der Pijl ', 'nice to read book', 4.1),\n",
    "]\n",
    "\n",
    "\n",
    "\n",
    "@app.get(\"/books\")\n",
    "async def read_all_books():\n",
    "    return BOOKS\n",
    "    \n",
    "@app.post(\"/create_book\")\n",
    "async def create_book(book_request: BookRequest):\n",
    "    BOOKS.append(book_request)"
   ]
  }
 ],
 "metadata": {
  "kernelspec": {
   "display_name": "venv",
   "language": "python",
   "name": "python3"
  },
  "language_info": {
   "codemirror_mode": {
    "name": "ipython",
    "version": 3
   },
   "file_extension": ".py",
   "mimetype": "text/x-python",
   "name": "python",
   "nbconvert_exporter": "python",
   "pygments_lexer": "ipython3",
   "version": "3.12.0"
  }
 },
 "nbformat": 4,
 "nbformat_minor": 2
}
